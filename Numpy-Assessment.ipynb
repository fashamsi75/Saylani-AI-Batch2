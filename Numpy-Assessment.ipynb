{
 "cells": [
  {
   "cell_type": "code",
   "execution_count": 1,
   "id": "seeing-luxembourg",
   "metadata": {},
   "outputs": [
    {
     "data": {
      "text/plain": [
       "(array([[[221, 212, 205],\n",
       "         [221, 212, 205],\n",
       "         [221, 212, 205],\n",
       "         ...,\n",
       "         [199, 181, 159],\n",
       "         [220, 199, 178],\n",
       "         [231, 211, 187]],\n",
       " \n",
       "        [[221, 212, 205],\n",
       "         [221, 212, 205],\n",
       "         [221, 212, 205],\n",
       "         ...,\n",
       "         [200, 182, 160],\n",
       "         [220, 199, 178],\n",
       "         [232, 212, 188]],\n",
       " \n",
       "        [[221, 212, 205],\n",
       "         [221, 212, 205],\n",
       "         [221, 212, 205],\n",
       "         ...,\n",
       "         [200, 182, 160],\n",
       "         [221, 200, 179],\n",
       "         [233, 213, 189]],\n",
       " \n",
       "        ...,\n",
       " \n",
       "        [[224, 178, 128],\n",
       "         [219, 173, 123],\n",
       "         [213, 167, 117],\n",
       "         ...,\n",
       "         [179, 184, 187],\n",
       "         [179, 184, 187],\n",
       "         [179, 184, 187]],\n",
       " \n",
       "        [[224, 178, 128],\n",
       "         [219, 173, 123],\n",
       "         [213, 167, 117],\n",
       "         ...,\n",
       "         [178, 183, 186],\n",
       "         [178, 183, 186],\n",
       "         [178, 183, 186]],\n",
       " \n",
       "        [[224, 178, 128],\n",
       "         [219, 173, 123],\n",
       "         [213, 167, 117],\n",
       "         ...,\n",
       "         [176, 184, 187],\n",
       "         [176, 184, 187],\n",
       "         [176, 184, 187]]], dtype=uint8),\n",
       " None)"
      ]
     },
     "execution_count": 1,
     "metadata": {},
     "output_type": "execute_result"
    }
   ],
   "source": [
    "#Displaying Image at the Centre of Screen Using Numpy\n",
    "# Import required modules \n",
    "from PIL import Image #Importing Image Module from Pillow Lib\n",
    "import numpy as np \n",
    "  \n",
    "# Load image \n",
    "image = Image.open('Furqan_05081.jpeg') \n",
    "  \n",
    "# Convert image to array \n",
    "image_arr = np.array(image) \n",
    "  \n",
    "# Crop image \n",
    "image_arr = image_arr[256:768, 256:768] \n",
    "  \n",
    "# Convert array to image \n",
    "cropped_image = Image.fromarray(image_arr) \n",
    "  \n",
    "# Display image \n",
    "image_arr, cropped_image.show()\n",
    "  \n"
   ]
  },
  {
   "cell_type": "code",
   "execution_count": null,
   "id": "political-england",
   "metadata": {},
   "outputs": [],
   "source": [
    "#Combining two images horizontally and vertically\n",
    "from PIL import Image #Importing Image Module from Pillow Lib\n",
    "import cv2\n",
    "import numpy as np \n",
    "  \n",
    "# Load image \n",
    "image = cv2.imread('Furqan_05081.jpeg')\n",
    "\n",
    "# Convert image to array \n",
    "image_arr = np.array(image) \n",
    "  \n",
    "# Cropping image \n",
    "image_arr = image_arr[256:768, 256:768] \n",
    "  \n",
    "# Convert array to image \n",
    "img = Image.fromarray(image_arr) \n",
    "\n",
    "#Using hstack and vstack to display images horizontally and vertically\n",
    "horizontalAppendedImg = np.hstack((img,img))\n",
    "verticalAppendedImg = np.vstack((img,img))\n",
    "\n",
    "#displaying images using imshow() \n",
    "cv2.imshow('Vertical Appended', verticalAppendedImg)\n",
    "cv2.imshow('Horizontal Appended', horizontalAppendedImg)\n",
    " \n",
    "cv2.waitKey(0)\n",
    "cv2.destroyAllWindows()"
   ]
  },
  {
   "cell_type": "code",
   "execution_count": 10,
   "id": "covered-librarian",
   "metadata": {},
   "outputs": [
    {
     "data": {
      "text/plain": [
       "<matplotlib.image.AxesImage at 0x7f2a332bdf90>"
      ]
     },
     "execution_count": 10,
     "metadata": {},
     "output_type": "execute_result"
    },
    {
     "data": {
      "image/png": "[encoded data removed]",
      "text/plain": [
       "<Figure size 432x288 with 1 Axes>"
      ]
     },
     "metadata": {
      "needs_background": "light"
     },
     "output_type": "display_data"
    }
   ],
   "source": [
    "#Coverting image into grayscale using numpy\n",
    "\n",
    "import matplotlib\n",
    "from matplotlib import pyplot\n",
    "import numpy as np\n",
    "\n",
    "rgb_image = matplotlib.image.imread(\"sunrise-5863751_1920.png\")\n",
    "\n",
    "rgb_weights = [0.2989, 0.5870, 0.1140]\n",
    "\n",
    "grayscale_image = np.dot(rgb_image[...,:3], rgb_weights)\n",
    "pyplot.imshow(grayscale_image, cmap=pyplot.get_cmap(\"gray\"))\n"
   ]
  },
  {
   "cell_type": "code",
   "execution_count": 13,
   "id": "focal-hearing",
   "metadata": {},
   "outputs": [],
   "source": [
    "#Rotating an image to 45 degrees\n",
    "\n",
    "from PIL import Image\n",
    "import numpy as np\n",
    "\n",
    "#read the image\n",
    "im = Image.open(\"Furqan_05081.jpeg\")\n",
    "\n",
    "#rotate image\n",
    "angle = 45\n",
    "out = im.rotate(angle, expand=True)\n",
    "out.save('rotated_image.jpeg')\n"
   ]
  },
  {
   "cell_type": "code",
   "execution_count": null,
   "id": "enhanced-profession",
   "metadata": {},
   "outputs": [],
   "source": []
  }
 ],
 "metadata": {
  "kernelspec": {
   "display_name": "Python 3",
   "language": "python",
   "name": "python3"
  },
  "language_info": {
   "codemirror_mode": {
    "name": "ipython",
    "version": 3
   },
   "file_extension": ".py",
   "mimetype": "text/x-python",
   "name": "python",
   "nbconvert_exporter": "python",
   "pygments_lexer": "ipython3",
   "version": "3.7.9"
  }
 },
 "nbformat": 4,
 "nbformat_minor": 5
}
